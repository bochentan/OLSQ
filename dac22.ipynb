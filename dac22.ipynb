{
  "cells": [
    {
      "cell_type": "markdown",
      "source": [
        "**OLSQ DAC'22 tutorial**\n",
        "\n",
        "It is recommended to pull from [our GitHub repo](https://github.com/UCLA-VAST/OLSQ) becasue it is sometimes more up-to-date, and there are more branches containing research progress.\n",
        "However, we upload OLSQ to Python Package Index (`pip`) as well, which we use here."
      ],
      "metadata": {
        "id": "D_uL4wYQyhcB"
      }
    },
    {
      "cell_type": "code",
      "execution_count": 1,
      "metadata": {
        "colab": {
          "base_uri": "https://localhost:8080/"
        },
        "id": "a4s1m2LMv6rI",
        "outputId": "3d97d416-8cd3-4645-e299-da4cba28fd7a"
      },
      "outputs": [
        {
          "output_type": "stream",
          "name": "stdout",
          "text": [
            "Looking in indexes: https://pypi.org/simple, https://us-python.pkg.dev/colab-wheels/public/simple/\n",
            "Collecting OLSQ\n",
            "  Downloading olsq-0.0.4.1.tar.gz (27 kB)\n",
            "Requirement already satisfied: networkx>=2.5 in /usr/local/lib/python3.7/dist-packages (from OLSQ) (2.6.3)\n",
            "Collecting z3-solver>=4.8.9.0\n",
            "  Downloading z3_solver-4.8.17.0-py2.py3-none-manylinux1_x86_64.whl (54.5 MB)\n",
            "\u001b[K     |████████████████████████████████| 54.5 MB 71.8 MB/s \n",
            "\u001b[?25hBuilding wheels for collected packages: OLSQ\n",
            "  Building wheel for OLSQ (setup.py) ... \u001b[?25l\u001b[?25hdone\n",
            "  Created wheel for OLSQ: filename=olsq-0.0.4.1-py3-none-any.whl size=32607 sha256=1c54d923385aa927a048bd5a5472f51521f663e7ffc46ae45257e3acd81a3e6a\n",
            "  Stored in directory: /root/.cache/pip/wheels/03/d3/3d/5f89ef72ad6cfe317f434347f58427ad6933a0f24f1ce6ce2e\n",
            "Successfully built OLSQ\n",
            "Installing collected packages: z3-solver, OLSQ\n",
            "Successfully installed OLSQ-0.0.4.1 z3-solver-4.8.17.0\n"
          ]
        }
      ],
      "source": [
        "!pip install OLSQ"
      ]
    },
    {
      "cell_type": "markdown",
      "source": [
        "The name of the package is `OLSQ`, the name of the module is `olsq`, and the name of the main solver class is `OLSQ`.\n",
        "Additionally, we need to import a class `qcdevice` to load to hardware information."
      ],
      "metadata": {
        "id": "uOEIxpKOyIwR"
      }
    },
    {
      "cell_type": "code",
      "source": [
        "from olsq import OLSQ \n",
        "\n",
        "from olsq.device import qcdevice"
      ],
      "metadata": {
        "id": "8H666nqHwK7B"
      },
      "execution_count": 2,
      "outputs": []
    },
    {
      "cell_type": "markdown",
      "source": [
        "We initiate the solver with an **objective** and a **mode**.\n",
        "The objective can be `depth`, `swap`, or `fidelity`.\n",
        "The mode can be `normal` or `transition`."
      ],
      "metadata": {
        "id": "4yAKEp-Vz-4s"
      }
    },
    {
      "cell_type": "code",
      "source": [
        "solver = OLSQ(\"depth\", \"normal\")"
      ],
      "metadata": {
        "id": "XnY6TSNCwePd"
      },
      "execution_count": 3,
      "outputs": []
    },
    {
      "cell_type": "markdown",
      "source": [
        "We construct an object with all the hardware information.\n",
        "The arguments are: name, number of qubits `nqubits`, list of edges between the qubits `connection`, duration of a SWAP gate `swap_duration`.\n",
        "In our case, the QPU has five qubits and a 'bowtie' connectivity.\n",
        "We assume a SWAP gate is decomposed to three CNOTs."
      ],
      "metadata": {
        "id": "7P21UOEE0hsO"
      }
    },
    {
      "cell_type": "code",
      "source": [
        "bowtie_connections = [(0,1), (0,2), (1,2), (2,3), (2,4), (3,4)]\n",
        "bowtie = qcdevice(\"bowtie\", nqubits=5, connection=bowtie_connections, \n",
        "                  swap_duration=3)"
      ],
      "metadata": {
        "id": "9_YGnuqnxsKY"
      },
      "execution_count": 4,
      "outputs": []
    },
    {
      "cell_type": "markdown",
      "source": [
        "We load the hardware information."
      ],
      "metadata": {
        "id": "Nmf3Nr762jHQ"
      }
    },
    {
      "cell_type": "code",
      "source": [
        "solver.setdevice(bowtie)"
      ],
      "metadata": {
        "id": "WLXUQxhV0zbw"
      },
      "execution_count": 5,
      "outputs": []
    },
    {
      "cell_type": "code",
      "source": [
        "gate_qubits = [(0,), (1,), (3,), (2,3), (0,), (1,), (2,), (3,), (0,1), (2,3),\n",
        "               (3,0), (1,2), (0,1), (2,3), (0,), (1,), (2,), (3,), (0,1), (2,3),\n",
        "               (3,), (3,0), (3,)]\n",
        "gate_name = [\"x\", \"x\", \"h\", \"cnot\", \"t\", \"t\", \"t\", \"tdg\", \"cnot\", \"cnot\", \n",
        "             \"cnot\", \"cnot\", \"cnot\", \"cnot\", \"tdg\", \"tdg\", \"tdg\", \"t\", \"cnot\",\n",
        "             \"cnot\", \"s\", \"cnot\", \"h\"]"
      ],
      "metadata": {
        "id": "SUGsdy-a3BOe"
      },
      "execution_count": 6,
      "outputs": []
    },
    {
      "cell_type": "code",
      "source": [
        "for i in range(len(gate_qubits)):\n",
        "    if len(gate_qubits[i]) == 1:\n",
        "        print(f\"g{i} {gate_name[i]} q{gate_qubits[i][0]}\")\n",
        "    else:\n",
        "        print(f\"g{i} {gate_name[i]} q{gate_qubits[i][0]} q{gate_qubits[i][1]}\")"
      ],
      "metadata": {
        "colab": {
          "base_uri": "https://localhost:8080/"
        },
        "id": "LKrNIAdR4UQ9",
        "outputId": "5068f935-eec1-4502-d04a-02be97ac5767"
      },
      "execution_count": 8,
      "outputs": [
        {
          "output_type": "stream",
          "name": "stdout",
          "text": [
            "g0 x q0\n",
            "g1 x q1\n",
            "g2 h q3\n",
            "g3 cnot q2 q3\n",
            "g4 t q0\n",
            "g5 t q1\n",
            "g6 t q2\n",
            "g7 tdg q3\n",
            "g8 cnot q0 q1\n",
            "g9 cnot q2 q3\n",
            "g10 cnot q3 q0\n",
            "g11 cnot q1 q2\n",
            "g12 cnot q0 q1\n",
            "g13 cnot q2 q3\n",
            "g14 tdg q0\n",
            "g15 tdg q1\n",
            "g16 tdg q2\n",
            "g17 t q3\n",
            "g18 cnot q0 q1\n",
            "g19 cnot q2 q3\n",
            "g20 s q3\n",
            "g21 cnot q3 q0\n",
            "g22 h q3\n"
          ]
        }
      ]
    },
    {
      "cell_type": "code",
      "source": [
        "solver.setprogram([4, gate_qubits, gate_name], input_mode=\"IR\")"
      ],
      "metadata": {
        "id": "4BYFgdiB8XdR"
      },
      "execution_count": 9,
      "outputs": []
    },
    {
      "cell_type": "code",
      "source": [
        "results = solver.solve()"
      ],
      "metadata": {
        "colab": {
          "base_uri": "https://localhost:8080/"
        },
        "id": "OPCGe9Wb8zDp",
        "outputId": "9f23c1f4-3733-4fb3-eb58-995dbed1e544"
      },
      "execution_count": 10,
      "outputs": [
        {
          "output_type": "stream",
          "name": "stdout",
          "text": [
            "Trying maximal depth = 11...\n",
            "Trying maximal depth = 14...\n",
            "Trying maximal depth = 18...\n",
            "Compilation time = 0:00:30.299127.\n",
            "SWAP on physical edge (0,2) at time 7\n",
            "SWAP on physical edge (3,4) at time 7\n",
            "Gate 0: x 0 on qubit 0 at time 0\n",
            "Gate 1: x 1 on qubit 2 at time 0\n",
            "Gate 2: h 3 on qubit 3 at time 0\n",
            "Gate 3: cnot 2, 3 on qubits 4 and 3 at time 1\n",
            "Gate 4: t 0 on qubit 0 at time 1\n",
            "Gate 5: t 1 on qubit 2 at time 1\n",
            "Gate 6: t 2 on qubit 4 at time 2\n",
            "Gate 7: tdg 3 on qubit 3 at time 2\n",
            "Gate 8: cnot 0, 1 on qubits 0 and 2 at time 2\n",
            "Gate 9: cnot 2, 3 on qubits 4 and 3 at time 3\n",
            "Gate 10: cnot 3, 0 on qubits 4 and 2 at time 8\n",
            "Gate 11: cnot 1, 2 on qubits 2 and 4 at time 4\n",
            "Gate 12: cnot 0, 1 on qubits 2 and 0 at time 9\n",
            "Gate 13: cnot 2, 3 on qubits 3 and 4 at time 9\n",
            "Gate 14: tdg 0 on qubit 2 at time 10\n",
            "Gate 15: tdg 1 on qubit 0 at time 10\n",
            "Gate 16: tdg 2 on qubit 3 at time 10\n",
            "Gate 17: t 3 on qubit 4 at time 10\n",
            "Gate 18: cnot 0, 1 on qubits 2 and 0 at time 11\n",
            "Gate 19: cnot 2, 3 on qubits 3 and 4 at time 11\n",
            "Gate 20: s 3 on qubit 4 at time 12\n",
            "Gate 21: cnot 3, 0 on qubits 4 and 2 at time 13\n",
            "Gate 22: h 3 on qubit 4 at time 14\n",
            "result circuit depth = 15.\n"
          ]
        }
      ]
    },
    {
      "cell_type": "code",
      "source": [
        "solver_swap = OLSQ(\"swap\", \"normal\")\n",
        "solver_swap.setdevice(bowtie)\n",
        "solver_swap.setprogram([4, gate_qubits, gate_name], input_mode=\"IR\")\n",
        "results_swap = solver_swap.solve()"
      ],
      "metadata": {
        "colab": {
          "base_uri": "https://localhost:8080/"
        },
        "id": "DA7Ouuka9HDZ",
        "outputId": "49b86b88-4088-4e4b-cccc-c999876e2283"
      },
      "execution_count": 11,
      "outputs": [
        {
          "output_type": "stream",
          "name": "stdout",
          "text": [
            "Trying maximal depth = 11...\n",
            "Trying maximal depth = 14...\n",
            "Trying maximal depth = 18...\n",
            "Compilation time = 0:00:33.735602.\n",
            "SWAP on physical edge (2,4) at time 7\n",
            "Gate 0: x 0 on qubit 1 at time 0\n",
            "Gate 1: x 1 on qubit 0 at time 0\n",
            "Gate 2: h 3 on qubit 4 at time 0\n",
            "Gate 3: cnot 2, 3 on qubits 2 and 4 at time 1\n",
            "Gate 4: t 0 on qubit 1 at time 2\n",
            "Gate 5: t 1 on qubit 0 at time 2\n",
            "Gate 6: t 2 on qubit 2 at time 2\n",
            "Gate 7: tdg 3 on qubit 4 at time 2\n",
            "Gate 8: cnot 0, 1 on qubits 1 and 0 at time 3\n",
            "Gate 9: cnot 2, 3 on qubits 2 and 4 at time 3\n",
            "Gate 10: cnot 3, 0 on qubits 2 and 1 at time 8\n",
            "Gate 11: cnot 1, 2 on qubits 0 and 2 at time 4\n",
            "Gate 12: cnot 0, 1 on qubits 1 and 0 at time 9\n",
            "Gate 13: cnot 2, 3 on qubits 4 and 2 at time 9\n",
            "Gate 14: tdg 0 on qubit 1 at time 10\n",
            "Gate 15: tdg 1 on qubit 0 at time 10\n",
            "Gate 16: tdg 2 on qubit 4 at time 10\n",
            "Gate 17: t 3 on qubit 2 at time 10\n",
            "Gate 18: cnot 0, 1 on qubits 1 and 0 at time 11\n",
            "Gate 19: cnot 2, 3 on qubits 4 and 2 at time 11\n",
            "Gate 20: s 3 on qubit 2 at time 12\n",
            "Gate 21: cnot 3, 0 on qubits 2 and 1 at time 14\n",
            "Gate 22: h 3 on qubit 2 at time 17\n",
            "result additional SWAP count = 1.\n"
          ]
        }
      ]
    },
    {
      "cell_type": "code",
      "source": [
        "solver_transition = OLSQ(\"swap\", \"transition\")\n",
        "solver_transition.setdevice(bowtie)\n",
        "solver_transition.setprogram([4, gate_qubits, gate_name], input_mode=\"IR\")\n",
        "results_transition = solver_transition.solve()"
      ],
      "metadata": {
        "colab": {
          "base_uri": "https://localhost:8080/"
        },
        "id": "HpCXpfte9fZ8",
        "outputId": "129b916d-236d-4ba6-d6fb-ed60dedd6aac"
      },
      "execution_count": 12,
      "outputs": [
        {
          "output_type": "stream",
          "name": "stdout",
          "text": [
            "Trying maximal depth = 1...\n",
            "Trying maximal depth = 2...\n",
            "Compilation time = 0:00:00.327550.\n",
            "SWAP on physical edge (2,4) at time 0\n",
            "Gate 0: x 0 on qubit 0 at time 0\n",
            "Gate 1: x 1 on qubit 1 at time 0\n",
            "Gate 2: h 3 on qubit 4 at time 0\n",
            "Gate 3: cnot 2, 3 on qubits 2 and 4 at time 0\n",
            "Gate 4: t 0 on qubit 0 at time 0\n",
            "Gate 5: t 1 on qubit 1 at time 0\n",
            "Gate 6: t 2 on qubit 2 at time 0\n",
            "Gate 7: tdg 3 on qubit 4 at time 0\n",
            "Gate 8: cnot 0, 1 on qubits 0 and 1 at time 0\n",
            "Gate 9: cnot 2, 3 on qubits 2 and 4 at time 0\n",
            "Gate 10: cnot 3, 0 on qubits 2 and 0 at time 1\n",
            "Gate 11: cnot 1, 2 on qubits 1 and 2 at time 0\n",
            "Gate 12: cnot 0, 1 on qubits 0 and 1 at time 1\n",
            "Gate 13: cnot 2, 3 on qubits 4 and 2 at time 1\n",
            "Gate 14: tdg 0 on qubit 0 at time 1\n",
            "Gate 15: tdg 1 on qubit 1 at time 1\n",
            "Gate 16: tdg 2 on qubit 4 at time 1\n",
            "Gate 17: t 3 on qubit 2 at time 1\n",
            "Gate 18: cnot 0, 1 on qubits 0 and 1 at time 1\n",
            "Gate 19: cnot 2, 3 on qubits 4 and 2 at time 1\n",
            "Gate 20: s 3 on qubit 2 at time 1\n",
            "Gate 21: cnot 3, 0 on qubits 2 and 0 at time 1\n",
            "Gate 22: h 3 on qubit 2 at time 1\n",
            "result additional SWAP count = 1.\n"
          ]
        }
      ]
    }
  ],
  "metadata": {
    "language_info": {
      "name": "python"
    },
    "orig_nbformat": 4,
    "colab": {
      "name": "dac22.ipynb",
      "provenance": []
    },
    "kernelspec": {
      "name": "python3",
      "display_name": "Python 3"
    },
    "gpuClass": "standard"
  },
  "nbformat": 4,
  "nbformat_minor": 0
}