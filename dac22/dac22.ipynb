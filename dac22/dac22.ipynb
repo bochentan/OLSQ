{
  "cells": [
    {
      "cell_type": "markdown",
      "metadata": {
        "id": "D_uL4wYQyhcB"
      },
      "source": [
        "**OLSQ DAC'22 tutorial**\n",
        "\n",
        "It is recommended to pull from [our GitHub repo](https://github.com/UCLA-VAST/OLSQ) becasue it is sometimes more up-to-date, and there are more branches containing research progress.\n",
        "However, we upload OLSQ to Python Package Index (`pip`) as well, which we use here."
      ]
    },
    {
      "cell_type": "code",
      "execution_count": 2,
      "metadata": {
        "colab": {
          "base_uri": "https://localhost:8080/"
        },
        "id": "a4s1m2LMv6rI",
        "outputId": "3d97d416-8cd3-4645-e299-da4cba28fd7a"
      },
      "outputs": [
        {
          "name": "stdout",
          "output_type": "stream",
          "text": [
            "zsh:1: command not found: pip\n"
          ]
        }
      ],
      "source": [
        "!pip install OLSQ"
      ]
    },
    {
      "cell_type": "markdown",
      "metadata": {
        "id": "uOEIxpKOyIwR"
      },
      "source": [
        "The name of the package is `OLSQ`, the name of the module is `olsq`, and the name of the main solver class is `OLSQ`.\n",
        "Additionally, we need to import a class `qcdevice` to load to hardware information."
      ]
    },
    {
      "cell_type": "code",
      "execution_count": null,
      "metadata": {
        "id": "8H666nqHwK7B"
      },
      "outputs": [],
      "source": [
        "from olsq import OLSQ \n",
        "from olsq.device import qcdevice"
      ]
    },
    {
      "cell_type": "markdown",
      "metadata": {
        "id": "4yAKEp-Vz-4s"
      },
      "source": [
        "We initiate the solver with an **objective** and a **mode**.\n",
        "The objective can be `depth`, `swap`, or `fidelity`.\n",
        "The mode can be `normal` or `transition`."
      ]
    },
    {
      "cell_type": "code",
      "execution_count": null,
      "metadata": {
        "id": "XnY6TSNCwePd"
      },
      "outputs": [],
      "source": [
        "solver = OLSQ(\"depth\", \"normal\")"
      ]
    },
    {
      "cell_type": "markdown",
      "metadata": {
        "id": "7P21UOEE0hsO"
      },
      "source": [
        "We construct a `qcdevice` object containing hardware information.\n",
        "The arguments are: name, number of qubits `nqubits`, list of edges between the qubits `connection`, and duration of a SWAP gate `swap_duration`.\n",
        "In our case, the QPU has five qubits connected in a 'bowtie' pattern.\n",
        "We assume a SWAP gate is decomposed to three CNOTs.\n",
        "\n",
        "<img src=\"./bowtie.png\" width=\"300\">"
      ]
    },
    {
      "cell_type": "code",
      "execution_count": null,
      "metadata": {
        "id": "9_YGnuqnxsKY"
      },
      "outputs": [],
      "source": [
        "bowtie_connections = [(0,1), (0,2), (1,2), (2,3), (2,4), (3,4)]\n",
        "bowtie_dev = qcdevice(\"bowtie\", nqubits=5, connection=bowtie_connections, \n",
        "                  swap_duration=3)\n",
        "\n",
        "solver.setdevice(bowtie_dev)"
      ]
    },
    {
      "cell_type": "markdown",
      "metadata": {},
      "source": [
        "We specify the program to compile with the intermediate representation of OLSQ consisting of three objects: number of physical qubits, a list of qubits involved in each gate `gate_qubits`, and a list of spec of these gates `gate_name`.\n",
        "In `gate_qubits`, every element is a tuple: if the gate is on one qubit, the tuple has only one elements, otherwise the tuple has two elements. `gate_name` keeps all the other information and is not involved in the solving process."
      ]
    },
    {
      "cell_type": "code",
      "execution_count": null,
      "metadata": {
        "id": "SUGsdy-a3BOe"
      },
      "outputs": [],
      "source": [
        "gate_qubits = [(0,), (1,), (3,), (2,3), (0,), (1,), (2,), (3,), (0,1), (2,3),\n",
        "               (3,0), (1,2), (0,1), (2,3), (0,), (1,), (2,), (3,), (0,1), (2,3),\n",
        "               (3,), (3,0), (3,)]\n",
        "\n",
        "gate_name = [\"x\", \"x\", \"h\", \"cnot\", \"t\", \"t\", \"t\", \"tdg\", \"cnot\", \"cnot\", \n",
        "             \"cnot\", \"cnot\", \"cnot\", \"cnot\", \"tdg\", \"tdg\", \"tdg\", \"t\", \"cnot\",\n",
        "             \"cnot\", \"s\", \"cnot\", \"h\"]\n",
        "\n",
        "solver.setprogram([4, gate_qubits, gate_name], input_mode=\"IR\")"
      ]
    },
    {
      "cell_type": "markdown",
      "metadata": {},
      "source": [
        "The circuit diagram of this quantum program is shown below.\n",
        "We can compare with the output in the following cell.\n",
        "\n",
        "<img src=\"./adder.png\" width=\"750\">"
      ]
    },
    {
      "cell_type": "code",
      "execution_count": null,
      "metadata": {
        "colab": {
          "base_uri": "https://localhost:8080/"
        },
        "id": "LKrNIAdR4UQ9",
        "outputId": "5068f935-eec1-4502-d04a-02be97ac5767"
      },
      "outputs": [],
      "source": [
        "# print out the OLSQ IR\n",
        "for i in range(len(gate_qubits)):\n",
        "    if len(gate_qubits[i]) == 1:\n",
        "        print(f\"g{i} {gate_name[i]} q{gate_qubits[i][0]}\")\n",
        "    else:\n",
        "        print(f\"g{i} {gate_name[i]} q{gate_qubits[i][0]} q{gate_qubits[i][1]}\")"
      ]
    },
    {
      "cell_type": "markdown",
      "metadata": {},
      "source": [
        "Solve the problem with `solve()` method.\n",
        "It will try to increase the depth limit if no solution is found.\n",
        "The return value contains the five objects below.\n",
        "There will also be some results printed out."
      ]
    },
    {
      "cell_type": "code",
      "execution_count": null,
      "metadata": {
        "colab": {
          "base_uri": "https://localhost:8080/"
        },
        "id": "OPCGe9Wb8zDp",
        "outputId": "9f23c1f4-3733-4fb3-eb58-995dbed1e544"
      },
      "outputs": [],
      "source": [
        "result_depth, list_scheduled_gate_name, list_scheduled_gate_qubits,\\\n",
        "final_mapping, objective_value = solver.solve(output_mode=\"IR\")"
      ]
    },
    {
      "cell_type": "code",
      "execution_count": null,
      "metadata": {},
      "outputs": [],
      "source": [
        "print(f\"objective value: {objective_value}\")\n",
        "print(\"program:\")\n",
        "for t in range(result_depth):\n",
        "    print(f\"time {t}:\")\n",
        "    for i in range(len(list_scheduled_gate_name[t])):\n",
        "        if len(list_scheduled_gate_qubits[t][i]) == 1:\n",
        "            print(f\"    {list_scheduled_gate_name[t][i]} \" +\n",
        "                  f\"p{list_scheduled_gate_qubits[t][0]}\")\n",
        "        else:\n",
        "            print(f\"    {list_scheduled_gate_name[t][i]} \" +\n",
        "                  f\"p{list_scheduled_gate_qubits[t][0]} \" +\n",
        "                  f\"p{list_scheduled_gate_qubits[t][1]} \")\n",
        "print(\"final_mapping\")\n",
        "for i, j in enumerate(final_mapping):\n",
        "    print(f\"q{i} -> p{j}\")"
      ]
    },
    {
      "cell_type": "code",
      "execution_count": null,
      "metadata": {
        "colab": {
          "base_uri": "https://localhost:8080/"
        },
        "id": "DA7Ouuka9HDZ",
        "outputId": "49b86b88-4088-4e4b-cccc-c999876e2283"
      },
      "outputs": [],
      "source": [
        "# setting the objective to swap and try again\n",
        "solver_swap = OLSQ(\"swap\", \"normal\")\n",
        "solver_swap.setdevice(bowtie_dev)\n",
        "solver_swap.setprogram([4, gate_qubits, gate_name], input_mode=\"IR\")\n",
        "results_swap = solver_swap.solve(output_mode=\"IR\")"
      ]
    },
    {
      "cell_type": "code",
      "execution_count": null,
      "metadata": {
        "colab": {
          "base_uri": "https://localhost:8080/"
        },
        "id": "HpCXpfte9fZ8",
        "outputId": "129b916d-236d-4ba6-d6fb-ed60dedd6aac"
      },
      "outputs": [],
      "source": [
        "# use the transition-based model, should run much faster\n",
        "solver_transition = OLSQ(\"swap\", \"transition\")\n",
        "solver_transition.setdevice(bowtie_dev)\n",
        "solver_transition.setprogram([4, gate_qubits, gate_name], input_mode=\"IR\")\n",
        "results_transition = solver_transition.solve(output_mode=\"IR\")"
      ]
    }
  ],
  "metadata": {
    "colab": {
      "name": "dac22.ipynb",
      "provenance": []
    },
    "gpuClass": "standard",
    "interpreter": {
      "hash": "31f2aee4e71d21fbe5cf8b01ff0e069b9275f58929596ceb00d14d90e3e16cd6"
    },
    "kernelspec": {
      "display_name": "Python 3.8.9 64-bit",
      "language": "python",
      "name": "python3"
    },
    "language_info": {
      "codemirror_mode": {
        "name": "ipython",
        "version": 3
      },
      "file_extension": ".py",
      "mimetype": "text/x-python",
      "name": "python",
      "nbconvert_exporter": "python",
      "pygments_lexer": "ipython3",
      "version": "3.8.9"
    },
    "orig_nbformat": 4
  },
  "nbformat": 4,
  "nbformat_minor": 0
}
