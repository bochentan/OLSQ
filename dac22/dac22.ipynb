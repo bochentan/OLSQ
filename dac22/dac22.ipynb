{
  "cells": [
    {
      "cell_type": "markdown",
      "metadata": {
        "id": "D_uL4wYQyhcB"
      },
      "source": [
        "**OLSQ DAC'22 tutorial**\n",
        "\n",
        "It is recommended to pull from [our GitHub repo](https://github.com/UCLA-VAST/OLSQ) becasue it is sometimes more up-to-date, and there are more branches containing research progress.\n",
        "However, we upload OLSQ to Python Package Index (`pip`) as well, which we use here."
      ]
    },
    {
      "cell_type": "code",
      "execution_count": 1,
      "metadata": {
        "colab": {
          "base_uri": "https://localhost:8080/"
        },
        "id": "a4s1m2LMv6rI",
        "outputId": "181f760b-b93d-458d-9ad5-5cf527cb5d49"
      },
      "outputs": [
        {
          "output_type": "stream",
          "name": "stdout",
          "text": [
            "Looking in indexes: https://pypi.org/simple, https://us-python.pkg.dev/colab-wheels/public/simple/\n",
            "Requirement already satisfied: OLSQ in /usr/local/lib/python3.7/dist-packages (0.0.4.1)\n",
            "Requirement already satisfied: networkx>=2.5 in /usr/local/lib/python3.7/dist-packages (from OLSQ) (2.6.3)\n",
            "Requirement already satisfied: z3-solver>=4.8.9.0 in /usr/local/lib/python3.7/dist-packages (from OLSQ) (4.8.17.0)\n"
          ]
        }
      ],
      "source": [
        "!pip install OLSQ"
      ]
    },
    {
      "cell_type": "markdown",
      "metadata": {
        "id": "uOEIxpKOyIwR"
      },
      "source": [
        "The name of the package is `OLSQ`, the name of the module is `olsq`, and the name of the main solver class is `OLSQ`.\n",
        "Additionally, we need to import a class `qcdevice` to load to hardware information."
      ]
    },
    {
      "cell_type": "code",
      "execution_count": 2,
      "metadata": {
        "id": "8H666nqHwK7B"
      },
      "outputs": [],
      "source": [
        "from olsq import OLSQ \n",
        "from olsq.device import qcdevice"
      ]
    },
    {
      "cell_type": "markdown",
      "metadata": {
        "id": "4yAKEp-Vz-4s"
      },
      "source": [
        "We initiate the solver with an **objective** and a **mode**.\n",
        "The objective can be `depth`, `swap`, or `fidelity`.\n",
        "The mode can be `normal` or `transition`."
      ]
    },
    {
      "cell_type": "code",
      "execution_count": 3,
      "metadata": {
        "id": "XnY6TSNCwePd"
      },
      "outputs": [],
      "source": [
        "solver = OLSQ(\"depth\", \"normal\")"
      ]
    },
    {
      "cell_type": "markdown",
      "metadata": {
        "id": "7P21UOEE0hsO"
      },
      "source": [
        "We construct a `qcdevice` object containing hardware information.\n",
        "The arguments are: name, number of qubits `nqubits`, list of edges between the qubits `connection`, and duration of a SWAP gate `swap_duration`.\n",
        "In our case, the QPU has five qubits connected in a 'bowtie' pattern.\n",
        "We assume a SWAP gate is decomposed to three CNOTs.\n",
        "\n",
        "<img src=\"https://github.com/tbcdebug/OLSQ/blob/master/dac22/bowtie.png?raw=1\" width=\"300\">"
      ]
    },
    {
      "cell_type": "code",
      "execution_count": 4,
      "metadata": {
        "id": "9_YGnuqnxsKY"
      },
      "outputs": [],
      "source": [
        "bowtie_connections = [(0,1), (0,2), (1,2), (2,3), (2,4), (3,4)]\n",
        "bowtie_dev = qcdevice(\"bowtie\", nqubits=5, connection=bowtie_connections, \n",
        "                  swap_duration=3)\n",
        "\n",
        "solver.setdevice(bowtie_dev)"
      ]
    },
    {
      "cell_type": "markdown",
      "metadata": {
        "id": "zFTQ5PM4wiuV"
      },
      "source": [
        "We specify a program to compile with the intermediate representation of OLSQ consisting of three objects: number of physical qubits, a list of qubits involved in each gate `gate_qubits`, and a list of spec of these gates `gate_name`.\n",
        "In `gate_qubits`, every element is a tuple: if the gate is on one qubit, the tuple has only one elements, otherwise the tuple has two elements. `gate_name` keeps all other information and is not involved in the solving process."
      ]
    },
    {
      "cell_type": "code",
      "execution_count": 5,
      "metadata": {
        "id": "SUGsdy-a3BOe"
      },
      "outputs": [],
      "source": [
        "gate_qubits = [(0,), (1,), (3,), (2,3), (0,), (1,), (2,), (3,), (0,1), (2,3),\n",
        "               (3,0), (1,2), (0,1), (2,3), (0,), (1,), (2,), (3,), (0,1), (2,3),\n",
        "               (3,), (3,0), (3,)]\n",
        "\n",
        "gate_name = [\"x\", \"x\", \"h\", \"cnot\", \"t\", \"t\", \"t\", \"tdg\", \"cnot\", \"cnot\", \n",
        "             \"cnot\", \"cnot\", \"cnot\", \"cnot\", \"tdg\", \"tdg\", \"tdg\", \"t\", \"cnot\",\n",
        "             \"cnot\", \"s\", \"cnot\", \"h\"]\n",
        "\n",
        "solver.setprogram([4, gate_qubits, gate_name], input_mode=\"IR\")"
      ]
    },
    {
      "cell_type": "markdown",
      "metadata": {
        "id": "BxZgkP2VwiuW"
      },
      "source": [
        "The circuit diagram of this quantum program is shown below.\n",
        "We can compare with the output in the following cell.\n",
        "\n",
        "<img src=\"https://github.com/tbcdebug/OLSQ/blob/master/dac22/adder.png?raw=1\" width=\"750\">"
      ]
    },
    {
      "cell_type": "code",
      "execution_count": 6,
      "metadata": {
        "colab": {
          "base_uri": "https://localhost:8080/"
        },
        "id": "LKrNIAdR4UQ9",
        "outputId": "2a1d2f6d-b50b-40e5-9c29-45eea7f9d81c"
      },
      "outputs": [
        {
          "output_type": "stream",
          "name": "stdout",
          "text": [
            "g0 x q0\n",
            "g1 x q1\n",
            "g2 h q3\n",
            "g3 cnot q2 q3\n",
            "g4 t q0\n",
            "g5 t q1\n",
            "g6 t q2\n",
            "g7 tdg q3\n",
            "g8 cnot q0 q1\n",
            "g9 cnot q2 q3\n",
            "g10 cnot q3 q0\n",
            "g11 cnot q1 q2\n",
            "g12 cnot q0 q1\n",
            "g13 cnot q2 q3\n",
            "g14 tdg q0\n",
            "g15 tdg q1\n",
            "g16 tdg q2\n",
            "g17 t q3\n",
            "g18 cnot q0 q1\n",
            "g19 cnot q2 q3\n",
            "g20 s q3\n",
            "g21 cnot q3 q0\n",
            "g22 h q3\n"
          ]
        }
      ],
      "source": [
        "# print out the OLSQ IR\n",
        "for i in range(len(gate_qubits)):\n",
        "    if len(gate_qubits[i]) == 1:\n",
        "        print(f\"g{i} {gate_name[i]} q{gate_qubits[i][0]}\")\n",
        "    else:\n",
        "        print(f\"g{i} {gate_name[i]} q{gate_qubits[i][0]} q{gate_qubits[i][1]}\")"
      ]
    },
    {
      "cell_type": "markdown",
      "metadata": {
        "id": "WM-iEKWiwiuW"
      },
      "source": [
        "Solve the problem with `solve()` method.\n",
        "It will try to increase the depth limit if no solution is found.\n",
        "The return value contains the five objects below.\n",
        "There will also be some results printed out."
      ]
    },
    {
      "cell_type": "code",
      "execution_count": 7,
      "metadata": {
        "colab": {
          "base_uri": "https://localhost:8080/"
        },
        "id": "OPCGe9Wb8zDp",
        "outputId": "277eb6d1-a26f-40d3-d863-08c5dc74d879"
      },
      "outputs": [
        {
          "output_type": "stream",
          "name": "stdout",
          "text": [
            "Trying maximal depth = 11...\n",
            "Trying maximal depth = 14...\n",
            "Trying maximal depth = 18...\n",
            "Compilation time = 0:00:36.874745.\n",
            "SWAP on physical edge (0,2) at time 7\n",
            "SWAP on physical edge (3,4) at time 7\n",
            "Gate 0: x 0 on qubit 0 at time 0\n",
            "Gate 1: x 1 on qubit 2 at time 0\n",
            "Gate 2: h 3 on qubit 3 at time 0\n",
            "Gate 3: cnot 2, 3 on qubits 4 and 3 at time 1\n",
            "Gate 4: t 0 on qubit 0 at time 1\n",
            "Gate 5: t 1 on qubit 2 at time 1\n",
            "Gate 6: t 2 on qubit 4 at time 2\n",
            "Gate 7: tdg 3 on qubit 3 at time 2\n",
            "Gate 8: cnot 0, 1 on qubits 0 and 2 at time 2\n",
            "Gate 9: cnot 2, 3 on qubits 4 and 3 at time 3\n",
            "Gate 10: cnot 3, 0 on qubits 4 and 2 at time 8\n",
            "Gate 11: cnot 1, 2 on qubits 2 and 4 at time 4\n",
            "Gate 12: cnot 0, 1 on qubits 2 and 0 at time 9\n",
            "Gate 13: cnot 2, 3 on qubits 3 and 4 at time 9\n",
            "Gate 14: tdg 0 on qubit 2 at time 10\n",
            "Gate 15: tdg 1 on qubit 0 at time 10\n",
            "Gate 16: tdg 2 on qubit 3 at time 10\n",
            "Gate 17: t 3 on qubit 4 at time 10\n",
            "Gate 18: cnot 0, 1 on qubits 2 and 0 at time 11\n",
            "Gate 19: cnot 2, 3 on qubits 3 and 4 at time 11\n",
            "Gate 20: s 3 on qubit 4 at time 12\n",
            "Gate 21: cnot 3, 0 on qubits 4 and 2 at time 13\n",
            "Gate 22: h 3 on qubit 4 at time 14\n",
            "result circuit depth = 15.\n"
          ]
        }
      ],
      "source": [
        "result_depth, list_scheduled_gate_name, list_scheduled_gate_qubits,\\\n",
        "final_mapping, objective_value = solver.solve(output_mode=\"IR\")"
      ]
    },
    {
      "cell_type": "code",
      "execution_count": 8,
      "metadata": {
        "id": "0INl7dFvwiuW",
        "outputId": "e528470b-a825-4d05-ede8-9a181e5adad2",
        "colab": {
          "base_uri": "https://localhost:8080/"
        }
      },
      "outputs": [
        {
          "output_type": "stream",
          "name": "stdout",
          "text": [
            "objective value: 15\n",
            "\n",
            "program:\n",
            "time 0:\n",
            "    x p0\n",
            "    x p2\n",
            "    h p3\n",
            "time 1:\n",
            "    cnot p4 p3 \n",
            "    t p0\n",
            "    t p2\n",
            "time 2:\n",
            "    t p4\n",
            "    tdg p3\n",
            "    cnot p0 p2 \n",
            "time 3:\n",
            "    cnot p4 p3 \n",
            "time 4:\n",
            "    cnot p2 p4 \n",
            "time 5:\n",
            "    cx p0 p2 \n",
            "    cx p3 p4 \n",
            "time 6:\n",
            "    cx p2 p0 \n",
            "    cx p4 p3 \n",
            "time 7:\n",
            "    cx p0 p2 \n",
            "    cx p3 p4 \n",
            "time 8:\n",
            "    cnot p4 p2 \n",
            "time 9:\n",
            "    cnot p2 p0 \n",
            "    cnot p3 p4 \n",
            "time 10:\n",
            "    tdg p2\n",
            "    tdg p0\n",
            "    tdg p3\n",
            "    t p4\n",
            "time 11:\n",
            "    cnot p2 p0 \n",
            "    cnot p3 p4 \n",
            "time 12:\n",
            "    s p4\n",
            "time 13:\n",
            "    cnot p4 p2 \n",
            "time 14:\n",
            "    h p4\n",
            "\n",
            "final_mapping\n",
            "q0 -> p2\n",
            "q1 -> p0\n",
            "q2 -> p3\n",
            "q3 -> p4\n"
          ]
        }
      ],
      "source": [
        "print(f\"objective value: {objective_value}\")\n",
        "print(\"\\nprogram:\")\n",
        "for t in range(result_depth):\n",
        "    print(f\"time {t}:\")\n",
        "    for i in range(len(list_scheduled_gate_name[t])):\n",
        "        if len(list_scheduled_gate_qubits[t][i]) == 1:\n",
        "            print(f\"    {list_scheduled_gate_name[t][i]} \" +\n",
        "                  f\"p{list_scheduled_gate_qubits[t][i][0]}\")\n",
        "        else:\n",
        "            print(f\"    {list_scheduled_gate_name[t][i]} \" +\n",
        "                  f\"p{list_scheduled_gate_qubits[t][i][0]} \" +\n",
        "                  f\"p{list_scheduled_gate_qubits[t][i][1]} \")\n",
        "print(\"\\nfinal_mapping\")\n",
        "for i, j in enumerate(final_mapping):\n",
        "    print(f\"q{i} -> p{j}\")"
      ]
    },
    {
      "cell_type": "code",
      "execution_count": 9,
      "metadata": {
        "colab": {
          "base_uri": "https://localhost:8080/"
        },
        "id": "DA7Ouuka9HDZ",
        "outputId": "9d802722-a9f2-414d-e12c-82b8a320efaf"
      },
      "outputs": [
        {
          "output_type": "stream",
          "name": "stdout",
          "text": [
            "Trying maximal depth = 11...\n",
            "Trying maximal depth = 14...\n",
            "Trying maximal depth = 18...\n",
            "Compilation time = 0:00:39.944931.\n",
            "SWAP on physical edge (2,4) at time 7\n",
            "Gate 0: x 0 on qubit 1 at time 0\n",
            "Gate 1: x 1 on qubit 0 at time 0\n",
            "Gate 2: h 3 on qubit 4 at time 0\n",
            "Gate 3: cnot 2, 3 on qubits 2 and 4 at time 1\n",
            "Gate 4: t 0 on qubit 1 at time 2\n",
            "Gate 5: t 1 on qubit 0 at time 2\n",
            "Gate 6: t 2 on qubit 2 at time 2\n",
            "Gate 7: tdg 3 on qubit 4 at time 2\n",
            "Gate 8: cnot 0, 1 on qubits 1 and 0 at time 3\n",
            "Gate 9: cnot 2, 3 on qubits 2 and 4 at time 3\n",
            "Gate 10: cnot 3, 0 on qubits 2 and 1 at time 8\n",
            "Gate 11: cnot 1, 2 on qubits 0 and 2 at time 4\n",
            "Gate 12: cnot 0, 1 on qubits 1 and 0 at time 9\n",
            "Gate 13: cnot 2, 3 on qubits 4 and 2 at time 9\n",
            "Gate 14: tdg 0 on qubit 1 at time 10\n",
            "Gate 15: tdg 1 on qubit 0 at time 10\n",
            "Gate 16: tdg 2 on qubit 4 at time 10\n",
            "Gate 17: t 3 on qubit 2 at time 10\n",
            "Gate 18: cnot 0, 1 on qubits 1 and 0 at time 11\n",
            "Gate 19: cnot 2, 3 on qubits 4 and 2 at time 11\n",
            "Gate 20: s 3 on qubit 2 at time 12\n",
            "Gate 21: cnot 3, 0 on qubits 2 and 1 at time 14\n",
            "Gate 22: h 3 on qubit 2 at time 17\n",
            "result additional SWAP count = 1.\n"
          ]
        }
      ],
      "source": [
        "# setting the objective to swap and try again\n",
        "solver_swap = OLSQ(\"swap\", \"normal\")\n",
        "solver_swap.setdevice(bowtie_dev)\n",
        "solver_swap.setprogram([4, gate_qubits, gate_name], input_mode=\"IR\")\n",
        "results_swap = solver_swap.solve(output_mode=\"IR\")"
      ]
    },
    {
      "cell_type": "code",
      "execution_count": 10,
      "metadata": {
        "colab": {
          "base_uri": "https://localhost:8080/"
        },
        "id": "HpCXpfte9fZ8",
        "outputId": "8284c223-24e7-490e-d641-21405afef0f7"
      },
      "outputs": [
        {
          "output_type": "stream",
          "name": "stdout",
          "text": [
            "Trying maximal depth = 1...\n",
            "Trying maximal depth = 2...\n",
            "Compilation time = 0:00:00.349530.\n",
            "SWAP on physical edge (2,4) at time 0\n",
            "Gate 0: x 0 on qubit 0 at time 0\n",
            "Gate 1: x 1 on qubit 1 at time 0\n",
            "Gate 2: h 3 on qubit 4 at time 0\n",
            "Gate 3: cnot 2, 3 on qubits 2 and 4 at time 0\n",
            "Gate 4: t 0 on qubit 0 at time 0\n",
            "Gate 5: t 1 on qubit 1 at time 0\n",
            "Gate 6: t 2 on qubit 2 at time 0\n",
            "Gate 7: tdg 3 on qubit 4 at time 0\n",
            "Gate 8: cnot 0, 1 on qubits 0 and 1 at time 0\n",
            "Gate 9: cnot 2, 3 on qubits 2 and 4 at time 0\n",
            "Gate 10: cnot 3, 0 on qubits 2 and 0 at time 1\n",
            "Gate 11: cnot 1, 2 on qubits 1 and 2 at time 0\n",
            "Gate 12: cnot 0, 1 on qubits 0 and 1 at time 1\n",
            "Gate 13: cnot 2, 3 on qubits 4 and 2 at time 1\n",
            "Gate 14: tdg 0 on qubit 0 at time 1\n",
            "Gate 15: tdg 1 on qubit 1 at time 1\n",
            "Gate 16: tdg 2 on qubit 4 at time 1\n",
            "Gate 17: t 3 on qubit 2 at time 1\n",
            "Gate 18: cnot 0, 1 on qubits 0 and 1 at time 1\n",
            "Gate 19: cnot 2, 3 on qubits 4 and 2 at time 1\n",
            "Gate 20: s 3 on qubit 2 at time 1\n",
            "Gate 21: cnot 3, 0 on qubits 2 and 0 at time 1\n",
            "Gate 22: h 3 on qubit 2 at time 1\n",
            "result additional SWAP count = 1.\n"
          ]
        }
      ],
      "source": [
        "# use the transition-based model, should run much faster\n",
        "solver_transition = OLSQ(\"swap\", \"transition\")\n",
        "solver_transition.setdevice(bowtie_dev)\n",
        "solver_transition.setprogram([4, gate_qubits, gate_name], input_mode=\"IR\")\n",
        "results_transition = solver_transition.solve(output_mode=\"IR\")"
      ]
    }
  ],
  "metadata": {
    "colab": {
      "name": "dac22.ipynb",
      "provenance": []
    },
    "gpuClass": "standard",
    "interpreter": {
      "hash": "31f2aee4e71d21fbe5cf8b01ff0e069b9275f58929596ceb00d14d90e3e16cd6"
    },
    "kernelspec": {
      "display_name": "Python 3.8.9 64-bit",
      "language": "python",
      "name": "python3"
    },
    "language_info": {
      "codemirror_mode": {
        "name": "ipython",
        "version": 3
      },
      "file_extension": ".py",
      "mimetype": "text/x-python",
      "name": "python",
      "nbconvert_exporter": "python",
      "pygments_lexer": "ipython3",
      "version": "3.8.9"
    },
    "orig_nbformat": 4
  },
  "nbformat": 4,
  "nbformat_minor": 0
}